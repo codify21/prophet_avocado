{
 "cells": [
  {
   "cell_type": "markdown",
   "metadata": {},
   "source": [
    "# STEP #0: PROBLEM STATEMENT"
   ]
  },
  {
   "cell_type": "markdown",
   "metadata": {},
   "source": [
    "- Data represents weekly 2018 retail scan data for National retail volume (units) and price. \n",
    "- Retail scan data comes directly from retailers’ cash registers based on actual retail sales of Hass avocados. \n",
    "- The Average Price (of avocados) in the table reflects a per unit (per avocado) cost, even when multiple units (avocados) are sold in bags. \n",
    "- The Product Lookup codes (PLU’s) in the table are only for Hass avocados. Other varieties of avocados (e.g. greenskins) are not included in this table.\n",
    "\n",
    "Some relevant columns in the dataset:\n",
    "\n",
    "- Date - The date of the observation\n",
    "- AveragePrice - the average price of a single avocado\n",
    "- type - conventional or organic\n",
    "- year - the year\n",
    "- Region - the city or region of the observation\n",
    "- Total Volume - Total number of avocados sold\n",
    "- 4046 - Total number of avocados with PLU 4046 sold\n",
    "- 4225 - Total number of avocados with PLU 4225 sold\n",
    "- 4770 - Total number of avocados with PLU 4770 sold\n",
    "\n"
   ]
  },
  {
   "cell_type": "markdown",
   "metadata": {},
   "source": [
    "# STEP #1: IMPORTING DATA"
   ]
  },
  {
   "cell_type": "markdown",
   "metadata": {},
   "source": [
    "- You must install fbprophet package as follows: \n",
    "     pip install fbprophet\n",
    "     \n",
    "- If you encounter an error, try: \n",
    "    conda install -c conda-forge fbprophet\n",
    "\n",
    "- Prophet is open source software released by Facebook’s Core Data Science team.\n",
    "\n",
    "- Prophet is a procedure for forecasting time series data based on an additive model where non-linear trends are fit with yearly, weekly, and daily seasonality, plus holiday effects. \n",
    "\n",
    "- Prophet works best with time series that have strong seasonal effects and several seasons of historical data. \n",
    "\n",
    "- For more information, please check this out: https://research.fb.com/prophet-forecasting-at-scale/\n",
    "https://facebook.github.io/prophet/docs/quick_start.html#python-api\n"
   ]
  },
  {
   "cell_type": "code",
   "execution_count": 1,
   "metadata": {},
   "outputs": [],
   "source": [
    "# import libraries \n",
    "import pandas as pd # Import Pandas for data manipulation using dataframes\n",
    "import numpy as np # Import Numpy for data statistical analysis \n",
    "import matplotlib.pyplot as plt # Import matplotlib for data visualisation\n",
    "import random\n",
    "import seaborn as sns\n",
    "from fbprophet import Prophet\n"
   ]
  },
  {
   "cell_type": "code",
   "execution_count": 2,
   "metadata": {},
   "outputs": [],
   "source": [
    "# dataframes creation for both training and testing datasets \n",
    "avocado_df = pd.read_csv('avocado.csv')\n"
   ]
  },
  {
   "cell_type": "markdown",
   "metadata": {},
   "source": [
    "# STEP #2: EXPLORING THE DATASET  "
   ]
  },
  {
   "cell_type": "markdown",
   "metadata": {},
   "source": [
    "# STEP 3: MAKE PREDICTIONS"
   ]
  },
  {
   "cell_type": "markdown",
   "metadata": {},
   "source": [
    "# PART 2"
   ]
  },
  {
   "cell_type": "markdown",
   "metadata": {},
   "source": [
    "# GREAT JOB, KEEP UP THE GREAT WORK!"
   ]
  }
 ],
 "metadata": {
  "kernelspec": {
   "display_name": "Python 3",
   "language": "python",
   "name": "python3"
  },
  "language_info": {
   "codemirror_mode": {
    "name": "ipython",
    "version": 3
   },
   "file_extension": ".py",
   "mimetype": "text/x-python",
   "name": "python",
   "nbconvert_exporter": "python",
   "pygments_lexer": "ipython3",
   "version": "3.8.5"
  },
  "varInspector": {
   "cols": {
    "lenName": 16,
    "lenType": 16,
    "lenVar": 40
   },
   "kernels_config": {
    "python": {
     "delete_cmd_postfix": "",
     "delete_cmd_prefix": "del ",
     "library": "var_list.py",
     "varRefreshCmd": "print(var_dic_list())"
    },
    "r": {
     "delete_cmd_postfix": ") ",
     "delete_cmd_prefix": "rm(",
     "library": "var_list.r",
     "varRefreshCmd": "cat(var_dic_list()) "
    }
   },
   "types_to_exclude": [
    "module",
    "function",
    "builtin_function_or_method",
    "instance",
    "_Feature"
   ],
   "window_display": false
  },
  "widgets": {
   "state": {},
   "version": "1.1.2"
  }
 },
 "nbformat": 4,
 "nbformat_minor": 2
}
